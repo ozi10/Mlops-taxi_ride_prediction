{
 "cells": [
  {
   "cell_type": "code",
   "execution_count": null,
   "metadata": {},
   "outputs": [],
   "source": [
    "import pandas as pd\n",
    "import numpy as np\n",
    "import fastparquet\n",
    "import seaborn as sns\n",
    "import plotly.express as px\n",
    "import matplotlib.pyplot as plt\n",
    "\n",
    "from sklearn.feature_extraction import DictVectorizer\n",
    "from sklearn.linear_model import LinearRegression\n",
    "from sklearn.metrics import mean_squared_error"
   ]
  },
  {
   "cell_type": "code",
   "execution_count": null,
   "metadata": {},
   "outputs": [],
   "source": []
  },
  {
   "cell_type": "code",
   "execution_count": null,
   "metadata": {},
   "outputs": [],
   "source": [
    "def data_preprocessing(file_name):    \n",
    "    df = pd.read_parquet(file_name)\n",
    "    df['trip_duration'] = df.tpep_dropoff_datetime - df.tpep_pickup_datetime \n",
    "    df['duration'] = df['trip_duration'].apply(lambda x:x.total_seconds()/60)\n",
    "    df = df[(df['duration'] >=1) & (df['duration'] <= 60)]\n",
    "\n",
    "\n",
    "    return df"
   ]
  },
  {
   "cell_type": "code",
   "execution_count": null,
   "metadata": {},
   "outputs": [],
   "source": [
    "df_train = data_preprocessing(\"https://d37ci6vzurychx.cloudfront.net/trip-data/yellow_tripdata_2024-01.parquet\")\n",
    "df_valid = data_preprocessing(\"https://d37ci6vzurychx.cloudfront.net/trip-data/yellow_tripdata_2024-02.parquet\")"
   ]
  },
  {
   "cell_type": "code",
   "execution_count": null,
   "metadata": {},
   "outputs": [],
   "source": [
    "len(df_train), len(df_valid)"
   ]
  },
  {
   "cell_type": "code",
   "execution_count": null,
   "metadata": {},
   "outputs": [],
   "source": [
    "\n",
    "cat_var = ['PULocationID','DOLocationID']\n",
    "num_var = ['trip_distance']\n",
    "df_train[cat_var] =df_train[cat_var].astype(str)\n",
    "\n",
    "Dv = DictVectorizer()\n",
    "\n",
    "train_dict = df_train[cat_var + num_var].to_dict(orient='records')\n",
    "X_train = Dv.fit_transform(train_dict)\n",
    "\n",
    "val_dict = df_train[cat_var + num_var].to_dict(orient='records')\n",
    "X_val = Dv.transform(val_dict)\n",
    "\n",
    "\n",
    "Y_train = df_train['duration'].values\n",
    "Y_valid = df_valid['duration'].values\n",
    "\n",
    "\n",
    "\n",
    "\n"
   ]
  },
  {
   "cell_type": "code",
   "execution_count": null,
   "metadata": {},
   "outputs": [],
   "source": [
    "lr = LinearRegression()\n",
    "lr.fit(X_train,Y_train)\n",
    "y_pred = lr.predict(X_train)\n",
    "mean_squared_error(Y_valid,y_pred, squared=False)\n"
   ]
  },
  {
   "cell_type": "code",
   "execution_count": null,
   "metadata": {},
   "outputs": [],
   "source": [
    "sns.histplot(y_pred,label='predicted')\n",
    "sns.histplot(Y_train,label='actual')\n",
    "\n",
    "plt.legend()"
   ]
  },
  {
   "cell_type": "code",
   "execution_count": null,
   "metadata": {},
   "outputs": [],
   "source": []
  },
  {
   "cell_type": "code",
   "execution_count": null,
   "metadata": {},
   "outputs": [],
   "source": []
  }
 ],
 "metadata": {
  "kernelspec": {
   "display_name": "Python 3",
   "language": "python",
   "name": "python3"
  },
  "language_info": {
   "codemirror_mode": {
    "name": "ipython",
    "version": 3
   },
   "file_extension": ".py",
   "mimetype": "text/x-python",
   "name": "python",
   "nbconvert_exporter": "python",
   "pygments_lexer": "ipython3",
   "version": "3.10.13"
  }
 },
 "nbformat": 4,
 "nbformat_minor": 2
}
