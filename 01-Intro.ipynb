{
 "cells": [
  {
   "cell_type": "code",
   "execution_count": 12,
   "metadata": {},
   "outputs": [],
   "source": [
    "import pandas as pd\n",
    "import numpy as np\n",
    "import fastparquet\n",
    "import seaborn as sns\n",
    "import plotly.express as px\n",
    "import matplotlib.pyplot as plt\n",
    "import pickle\n",
    "import os\n",
    "\n",
    "from sklearn.feature_extraction import DictVectorizer\n",
    "from sklearn.linear_model import LinearRegression,Lasso\n",
    "from sklearn.metrics import mean_squared_error"
   ]
  },
  {
   "cell_type": "code",
   "execution_count": null,
   "metadata": {},
   "outputs": [],
   "source": []
  },
  {
   "cell_type": "code",
   "execution_count": 2,
   "metadata": {},
   "outputs": [],
   "source": [
    "def data_preprocessing(file_name):    \n",
    "    df = pd.read_parquet(file_name)\n",
    "    df['trip_duration'] = df.tpep_dropoff_datetime - df.tpep_pickup_datetime \n",
    "    df['duration'] = df['trip_duration'].apply(lambda x:x.total_seconds()/60)\n",
    "    df = df[(df['duration'] >=1) & (df['duration'] <= 60)]\n",
    "\n",
    "\n",
    "    return df"
   ]
  },
  {
   "cell_type": "code",
   "execution_count": 3,
   "metadata": {},
   "outputs": [],
   "source": [
    "df_train = data_preprocessing(\"https://d37ci6vzurychx.cloudfront.net/trip-data/yellow_tripdata_2024-01.parquet\")\n",
    "df_valid = data_preprocessing(\"https://d37ci6vzurychx.cloudfront.net/trip-data/yellow_tripdata_2024-02.parquet\")"
   ]
  },
  {
   "cell_type": "code",
   "execution_count": 4,
   "metadata": {},
   "outputs": [
    {
     "data": {
      "text/plain": [
       "(2898906, 2938060)"
      ]
     },
     "execution_count": 4,
     "metadata": {},
     "output_type": "execute_result"
    }
   ],
   "source": [
    "len(df_train), len(df_valid)"
   ]
  },
  {
   "cell_type": "code",
   "execution_count": 7,
   "metadata": {},
   "outputs": [
    {
     "name": "stdout",
     "output_type": "stream",
     "text": [
      "<class 'pandas.core.frame.DataFrame'>\n",
      "Index: 2898906 entries, 0 to 2964623\n",
      "Data columns (total 21 columns):\n",
      " #   Column                 Dtype          \n",
      "---  ------                 -----          \n",
      " 0   VendorID               float64        \n",
      " 1   tpep_pickup_datetime   datetime64[us] \n",
      " 2   tpep_dropoff_datetime  datetime64[us] \n",
      " 3   passenger_count        float64        \n",
      " 4   trip_distance          float64        \n",
      " 5   RatecodeID             float64        \n",
      " 6   store_and_fwd_flag     object         \n",
      " 7   PULocationID           float64        \n",
      " 8   DOLocationID           float64        \n",
      " 9   payment_type           float64        \n",
      " 10  fare_amount            float64        \n",
      " 11  extra                  float64        \n",
      " 12  mta_tax                float64        \n",
      " 13  tip_amount             float64        \n",
      " 14  tolls_amount           float64        \n",
      " 15  improvement_surcharge  float64        \n",
      " 16  total_amount           float64        \n",
      " 17  congestion_surcharge   float64        \n",
      " 18  Airport_fee            float64        \n",
      " 19  trip_duration          timedelta64[us]\n",
      " 20  duration               float64        \n",
      "dtypes: datetime64[us](2), float64(17), object(1), timedelta64[us](1)\n",
      "memory usage: 486.6+ MB\n"
     ]
    }
   ],
   "source": [
    "df_train.info()"
   ]
  },
  {
   "cell_type": "code",
   "execution_count": 6,
   "metadata": {},
   "outputs": [
    {
     "name": "stdout",
     "output_type": "stream",
     "text": [
      "<class 'pandas.core.frame.DataFrame'>\n",
      "Index: 2938060 entries, 0 to 3007525\n",
      "Data columns (total 21 columns):\n",
      " #   Column                 Dtype          \n",
      "---  ------                 -----          \n",
      " 0   VendorID               float64        \n",
      " 1   tpep_pickup_datetime   datetime64[us] \n",
      " 2   tpep_dropoff_datetime  datetime64[us] \n",
      " 3   passenger_count        float64        \n",
      " 4   trip_distance          float64        \n",
      " 5   RatecodeID             float64        \n",
      " 6   store_and_fwd_flag     object         \n",
      " 7   PULocationID           float64        \n",
      " 8   DOLocationID           float64        \n",
      " 9   payment_type           float64        \n",
      " 10  fare_amount            float64        \n",
      " 11  extra                  float64        \n",
      " 12  mta_tax                float64        \n",
      " 13  tip_amount             float64        \n",
      " 14  tolls_amount           float64        \n",
      " 15  improvement_surcharge  float64        \n",
      " 16  total_amount           float64        \n",
      " 17  congestion_surcharge   float64        \n",
      " 18  Airport_fee            float64        \n",
      " 19  trip_duration          timedelta64[us]\n",
      " 20  duration               float64        \n",
      "dtypes: datetime64[us](2), float64(17), object(1), timedelta64[us](1)\n",
      "memory usage: 493.1+ MB\n"
     ]
    }
   ],
   "source": [
    "df_valid.info()"
   ]
  },
  {
   "cell_type": "code",
   "execution_count": 9,
   "metadata": {},
   "outputs": [],
   "source": [
    "# df_train['PU_DO'] = df_train['PULocationID'] + '_' + df_train['DOLocationID']\n",
    "# df_valid['PU_DO'] = df_valid['PULocationID'] + '_' + df_valid['DOLocationID']"
   ]
  },
  {
   "cell_type": "code",
   "execution_count": 10,
   "metadata": {},
   "outputs": [],
   "source": [
    "\n",
    "cat_var = ['PULocationID','DOLocationID']\n",
    "num_var = ['trip_distance']\n",
    "# df_train[cat_var] =df_train[cat_var].astype(str)\n",
    "\n",
    "Dv = DictVectorizer()\n",
    "\n",
    "train_dict = df_train[cat_var + num_var].to_dict(orient='records')\n",
    "X_train = Dv.fit_transform(train_dict)\n",
    "\n",
    "val_dict = df_valid[cat_var + num_var].to_dict(orient='records')\n",
    "X_val = Dv.transform(val_dict)\n",
    "\n",
    "\n",
    "Y_train = df_train['duration'].values\n",
    "Y_valid = df_valid['duration'].values\n",
    "\n",
    "\n",
    "\n",
    "\n"
   ]
  },
  {
   "cell_type": "code",
   "execution_count": 11,
   "metadata": {},
   "outputs": [
    {
     "name": "stderr",
     "output_type": "stream",
     "text": [
      "/home/codespace/.local/lib/python3.10/site-packages/sklearn/metrics/_regression.py:492: FutureWarning: 'squared' is deprecated in version 1.4 and will be removed in 1.6. To calculate the root mean squared error, use the function'root_mean_squared_error'.\n",
      "  warnings.warn(\n"
     ]
    },
    {
     "data": {
      "text/plain": [
       "10.148303996345795"
      ]
     },
     "execution_count": 11,
     "metadata": {},
     "output_type": "execute_result"
    }
   ],
   "source": [
    "lr = LinearRegression()\n",
    "lr.fit(X_train,Y_train)\n",
    "y_pred = lr.predict(X_val)\n",
    "mean_squared_error(Y_valid,y_pred, squared=False)\n"
   ]
  },
  {
   "cell_type": "code",
   "execution_count": 15,
   "metadata": {},
   "outputs": [
    {
     "ename": "FileNotFoundError",
     "evalue": "[Errno 2] No such file or directory: 'models/lin_reg.bin'",
     "output_type": "error",
     "traceback": [
      "\u001b[0;31m---------------------------------------------------------------------------\u001b[0m",
      "\u001b[0;31mFileNotFoundError\u001b[0m                         Traceback (most recent call last)",
      "Cell \u001b[0;32mIn[15], line 1\u001b[0m\n\u001b[0;32m----> 1\u001b[0m \u001b[38;5;28;01mwith\u001b[39;00m \u001b[38;5;28;43mopen\u001b[39;49m\u001b[43m(\u001b[49m\u001b[38;5;124;43m'\u001b[39;49m\u001b[38;5;124;43mmodels/lin_reg.bin\u001b[39;49m\u001b[38;5;124;43m'\u001b[39;49m\u001b[43m)\u001b[49m \u001b[38;5;28;01mas\u001b[39;00m f_out:\n\u001b[1;32m      2\u001b[0m     pickle\u001b[38;5;241m.\u001b[39mdump((Dv,lr), f_out)\n",
      "File \u001b[0;32m~/.local/lib/python3.10/site-packages/IPython/core/interactiveshell.py:324\u001b[0m, in \u001b[0;36m_modified_open\u001b[0;34m(file, *args, **kwargs)\u001b[0m\n\u001b[1;32m    317\u001b[0m \u001b[38;5;28;01mif\u001b[39;00m file \u001b[38;5;129;01min\u001b[39;00m {\u001b[38;5;241m0\u001b[39m, \u001b[38;5;241m1\u001b[39m, \u001b[38;5;241m2\u001b[39m}:\n\u001b[1;32m    318\u001b[0m     \u001b[38;5;28;01mraise\u001b[39;00m \u001b[38;5;167;01mValueError\u001b[39;00m(\n\u001b[1;32m    319\u001b[0m         \u001b[38;5;124mf\u001b[39m\u001b[38;5;124m\"\u001b[39m\u001b[38;5;124mIPython won\u001b[39m\u001b[38;5;124m'\u001b[39m\u001b[38;5;124mt let you open fd=\u001b[39m\u001b[38;5;132;01m{\u001b[39;00mfile\u001b[38;5;132;01m}\u001b[39;00m\u001b[38;5;124m by default \u001b[39m\u001b[38;5;124m\"\u001b[39m\n\u001b[1;32m    320\u001b[0m         \u001b[38;5;124m\"\u001b[39m\u001b[38;5;124mas it is likely to crash IPython. If you know what you are doing, \u001b[39m\u001b[38;5;124m\"\u001b[39m\n\u001b[1;32m    321\u001b[0m         \u001b[38;5;124m\"\u001b[39m\u001b[38;5;124myou can use builtins\u001b[39m\u001b[38;5;124m'\u001b[39m\u001b[38;5;124m open.\u001b[39m\u001b[38;5;124m\"\u001b[39m\n\u001b[1;32m    322\u001b[0m     )\n\u001b[0;32m--> 324\u001b[0m \u001b[38;5;28;01mreturn\u001b[39;00m \u001b[43mio_open\u001b[49m\u001b[43m(\u001b[49m\u001b[43mfile\u001b[49m\u001b[43m,\u001b[49m\u001b[43m \u001b[49m\u001b[38;5;241;43m*\u001b[39;49m\u001b[43margs\u001b[49m\u001b[43m,\u001b[49m\u001b[43m \u001b[49m\u001b[38;5;241;43m*\u001b[39;49m\u001b[38;5;241;43m*\u001b[39;49m\u001b[43mkwargs\u001b[49m\u001b[43m)\u001b[49m\n",
      "\u001b[0;31mFileNotFoundError\u001b[0m: [Errno 2] No such file or directory: 'models/lin_reg.bin'"
     ]
    }
   ],
   "source": [
    "with open('models/lin_reg.bin') as f_out:\n",
    "    pickle.dump((Dv,lr), f_out)"
   ]
  },
  {
   "cell_type": "code",
   "execution_count": null,
   "metadata": {},
   "outputs": [
    {
     "name": "stderr",
     "output_type": "stream",
     "text": [
      "/home/codespace/.local/lib/python3.10/site-packages/sklearn/metrics/_regression.py:492: FutureWarning: 'squared' is deprecated in version 1.4 and will be removed in 1.6. To calculate the root mean squared error, use the function'root_mean_squared_error'.\n",
      "  warnings.warn(\n"
     ]
    },
    {
     "data": {
      "text/plain": [
       "10.321881139711033"
      ]
     },
     "execution_count": 16,
     "metadata": {},
     "output_type": "execute_result"
    }
   ],
   "source": [
    "# ls = Lasso(alpha=0.005)\n",
    "# ls.fit(X_train,Y_train)\n",
    "# y_pred = ls.predict(X_val)\n",
    "# mean_squared_error(Y_valid,y_pred, squared=False)"
   ]
  },
  {
   "cell_type": "code",
   "execution_count": null,
   "metadata": {},
   "outputs": [],
   "source": []
  }
 ],
 "metadata": {
  "kernelspec": {
   "display_name": "Python 3",
   "language": "python",
   "name": "python3"
  },
  "language_info": {
   "codemirror_mode": {
    "name": "ipython",
    "version": 3
   },
   "file_extension": ".py",
   "mimetype": "text/x-python",
   "name": "python",
   "nbconvert_exporter": "python",
   "pygments_lexer": "ipython3",
   "version": "3.10.13"
  }
 },
 "nbformat": 4,
 "nbformat_minor": 2
}
